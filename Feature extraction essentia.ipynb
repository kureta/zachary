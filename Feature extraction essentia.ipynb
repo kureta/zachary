{
 "cells": [
  {
   "cell_type": "code",
   "execution_count": null,
   "metadata": {},
   "outputs": [],
   "source": [
    "%matplotlib inline\n",
    "import matplotlib as mpl\n",
    "import matplotlib.pyplot as plt\n",
    "from IPython.display import Audio\n",
    "import numpy as np"
   ]
  },
  {
   "cell_type": "code",
   "execution_count": null,
   "metadata": {},
   "outputs": [],
   "source": [
    "from functools import partial"
   ]
  },
  {
   "cell_type": "code",
   "execution_count": null,
   "metadata": {},
   "outputs": [],
   "source": [
    "import essentia\n",
    "import essentia.standard as es\n",
    "import librosa"
   ]
  },
  {
   "cell_type": "code",
   "execution_count": null,
   "metadata": {},
   "outputs": [],
   "source": [
    "# audio_file = '/media/Samples/SOL_0.9_HQ/Winds/Flute/ordinario/Fl-ord-C5-mf.wav'\n",
    "audio_file = \"/home/kureta/Music/chorales/01-[Vierstimmige Chorgesänge]-=Hilf,Gott,dass mir's gelinge=,BWV 343.mp3\""
   ]
  },
  {
   "cell_type": "code",
   "execution_count": null,
   "metadata": {},
   "outputs": [],
   "source": [
    "sample_rate = 44100\n",
    "frame_length = 1024\n",
    "hop_length = 512\n",
    "lowest_note = 'c2'\n",
    "highest_note = 'e6'\n",
    "max_freq = librosa.note_to_hz(highest_note)\n",
    "min_freq = librosa.note_to_hz(lowest_note)\n",
    "pitch_range = librosa.note_to_midi(highest_note) - librosa.note_to_midi(lowest_note) + 1\n",
    "fft_frequencies = librosa.fft_frequencies(sr=44100, n_fft=1024)\n",
    "fft_bin_to_freq = lambda x: fft_frequencies[x]\n",
    "frames_to_duration = partial(librosa.frames_to_time, sr=44100, hop_length=512, n_fft=1024)\n",
    "silence_threshold = 36  # db"
   ]
  },
  {
   "cell_type": "code",
   "execution_count": null,
   "metadata": {},
   "outputs": [],
   "source": [
    "loader = essentia.standard.MonoLoader(filename=audio_file, sampleRate=sample_rate)\n",
    "audio = loader()\n",
    "audio = librosa.util.normalize(audio)\n",
    "audio, _ = librosa.effects.trim(audio, top_db=silence_threshold, frame_length=frame_length, hop_length=hop_length)"
   ]
  },
  {
   "cell_type": "code",
   "execution_count": null,
   "metadata": {},
   "outputs": [],
   "source": [
    "def plot_signal(signal):\n",
    "    plt.rcParams['figure.figsize'] = (19, 6)\n",
    "\n",
    "    fig, ax1 = plt.subplots(1, 1)\n",
    "    ax1.set_xticks(np.arange(0, len(signal)+1, len(signal)/10))\n",
    "    ax1.xaxis.set_major_formatter(mpl.ticker.FuncFormatter(lambda x, _: f'{x/sample_rate:.2f}'))\n",
    "    ax1.plot(signal)\n",
    "    pass"
   ]
  },
  {
   "cell_type": "code",
   "execution_count": null,
   "metadata": {},
   "outputs": [],
   "source": [
    "plot_signal(audio)"
   ]
  },
  {
   "cell_type": "code",
   "execution_count": null,
   "metadata": {},
   "outputs": [],
   "source": [
    "Audio(data=audio, rate=sample_rate)"
   ]
  },
  {
   "cell_type": "code",
   "execution_count": null,
   "metadata": {},
   "outputs": [],
   "source": [
    "import pyworld as pw"
   ]
  },
  {
   "cell_type": "code",
   "execution_count": null,
   "metadata": {},
   "outputs": [],
   "source": [
    "# 1. A convient way\n",
    "f0, sp, ap = pw.wav2world(audio.astype(np.double), sample_rate)    # use default options"
   ]
  },
  {
   "cell_type": "code",
   "execution_count": null,
   "metadata": {},
   "outputs": [],
   "source": [
    "ap = np.zeros_like(ap)"
   ]
  },
  {
   "cell_type": "code",
   "execution_count": null,
   "metadata": {},
   "outputs": [],
   "source": [
    "plot_signal(f0)"
   ]
  },
  {
   "cell_type": "code",
   "execution_count": null,
   "metadata": {},
   "outputs": [],
   "source": [
    "from scipy.signal import savgol_filter"
   ]
  },
  {
   "cell_type": "code",
   "execution_count": null,
   "metadata": {},
   "outputs": [],
   "source": [
    "f0_hat = savgol_filter(f0, 51, 3)"
   ]
  },
  {
   "cell_type": "code",
   "execution_count": null,
   "metadata": {},
   "outputs": [],
   "source": [
    "f0_hat[:] = 110."
   ]
  },
  {
   "cell_type": "code",
   "execution_count": null,
   "metadata": {},
   "outputs": [],
   "source": [
    "plot_signal(f0_hat)"
   ]
  },
  {
   "cell_type": "code",
   "execution_count": null,
   "metadata": {},
   "outputs": [],
   "source": [
    "y = pw.synthesize(f0_hat, sp, ap, sample_rate)"
   ]
  },
  {
   "cell_type": "code",
   "execution_count": null,
   "metadata": {},
   "outputs": [],
   "source": [
    "plot_signal(y)"
   ]
  },
  {
   "cell_type": "code",
   "execution_count": null,
   "metadata": {},
   "outputs": [],
   "source": [
    "Audio(data=y, rate=sample_rate)"
   ]
  },
  {
   "cell_type": "code",
   "execution_count": null,
   "metadata": {},
   "outputs": [],
   "source": [
    "window = es.Windowing(type = 'hann')\n",
    "get_spectrum = es.Spectrum()\n",
    "get_melodia_pitches = es.PredominantPitchMelodia(maxFrequency=max_freq, minFrequency=min_freq,\n",
    "                                                 frameSize=frame_length, hopSize=hop_length, guessUnvoiced=True)\n",
    "pitch_filter = es.PitchFilter(useAbsolutePitchConfidence=True)\n",
    "eq_loudness = es.EqualLoudness(sampleRate=sample_rate)\n",
    "get_loudness = es.Loudness()\n",
    "\n",
    "spectra = []\n",
    "loudnesses = []\n",
    "\n",
    "for frame in es.FrameGenerator(audio, frameSize=frame_length, hopSize=hop_length, startFromZero=True):\n",
    "    windowed_frame = window(frame)\n",
    "    spectra.append(get_spectrum(windowed_frame))\n",
    "    loudnesses.append(get_loudness(windowed_frame))\n",
    "\n",
    "spectra = essentia.array(spectra)\n",
    "loudnesses = essentia.array(loudnesses)\n",
    "\n",
    "pitches, confidences = get_melodia_pitches(eq_loudness(audio))\n",
    "filtered_pitches = pitch_filter(pitches, confidences)"
   ]
  },
  {
   "cell_type": "code",
   "execution_count": null,
   "metadata": {},
   "outputs": [],
   "source": [
    "def plot_spectrum(spect):\n",
    "    plt.rcParams['figure.figsize'] = (19, 6)\n",
    "\n",
    "    fig, ax1 = plt.subplots(1, 1)\n",
    "    ax1.set_xticks(np.arange(0, spect.shape[0]+1, spect.shape[0]/10))\n",
    "    ax1.xaxis.set_major_formatter(mpl.ticker.FuncFormatter(lambda x, _: f'{frames_to_duration(x):.2f}'))\n",
    "    ax1.set_yticks(np.arange(0, spect.shape[1], spect.shape[1]//10))\n",
    "    ax1.yaxis.set_major_formatter(mpl.ticker.FuncFormatter(lambda x, _: f'{fft_bin_to_freq(x):.2f}'))\n",
    "    ax1.imshow(spect.T, aspect='auto', interpolation='none', origin='lower')\n",
    "    pass"
   ]
  },
  {
   "cell_type": "code",
   "execution_count": null,
   "metadata": {},
   "outputs": [],
   "source": [
    "plot_spectrum(spectra)"
   ]
  },
  {
   "cell_type": "code",
   "execution_count": null,
   "metadata": {},
   "outputs": [],
   "source": [
    "def plot_feature(feature):\n",
    "    plt.rcParams['figure.figsize'] = (19, 6)\n",
    "\n",
    "    fig, ax1 = plt.subplots(1, 1)\n",
    "    ax1.set_xticks(np.arange(0, len(feature)+1, len(feature)/10))\n",
    "    ax1.xaxis.set_major_formatter(mpl.ticker.FuncFormatter(lambda x, _: f'{frames_to_duration(x):.2f}'))\n",
    "    ax1.plot(feature)\n",
    "    pass"
   ]
  },
  {
   "cell_type": "code",
   "execution_count": null,
   "metadata": {},
   "outputs": [],
   "source": [
    "# plot_feature(librosa.hz_to_midi(pitches))\n",
    "plot_feature(librosa.hz_to_midi(filtered_pitches[1:-1]))\n",
    "plot_feature(np.abs(confidences[1:-1]))\n",
    "plot_feature(loudnesses)"
   ]
  },
  {
   "cell_type": "code",
   "execution_count": null,
   "metadata": {},
   "outputs": [],
   "source": [
    "Audio(data=audio, rate=sample_rate)"
   ]
  },
  {
   "cell_type": "code",
   "execution_count": null,
   "metadata": {},
   "outputs": [],
   "source": [
    "filtered_pitches[1:-1].shape, loudnesses.shape, confidences[1:-1].shape"
   ]
  },
  {
   "cell_type": "code",
   "execution_count": null,
   "metadata": {},
   "outputs": [],
   "source": []
  }
 ],
 "metadata": {
  "kernelspec": {
   "display_name": "zachary-venv",
   "language": "python",
   "name": "zachary-venv"
  },
  "language_info": {
   "codemirror_mode": {
    "name": "ipython",
    "version": 3
   },
   "file_extension": ".py",
   "mimetype": "text/x-python",
   "name": "python",
   "nbconvert_exporter": "python",
   "pygments_lexer": "ipython3",
   "version": "3.7.2"
  },
  "toc": {
   "base_numbering": 1,
   "nav_menu": {},
   "number_sections": true,
   "sideBar": true,
   "skip_h1_title": false,
   "title_cell": "Table of Contents",
   "title_sidebar": "Contents",
   "toc_cell": false,
   "toc_position": {},
   "toc_section_display": true,
   "toc_window_display": false
  }
 },
 "nbformat": 4,
 "nbformat_minor": 2
}
