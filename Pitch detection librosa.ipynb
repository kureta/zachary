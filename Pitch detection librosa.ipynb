{
 "cells": [
  {
   "cell_type": "code",
   "execution_count": null,
   "metadata": {},
   "outputs": [],
   "source": [
    "%matplotlib notebook\n",
    "import matplotlib as mpl\n",
    "import matplotlib.pyplot as plt\n",
    "from IPython.display import Audio"
   ]
  },
  {
   "cell_type": "code",
   "execution_count": null,
   "metadata": {},
   "outputs": [],
   "source": [
    "import numpy as np\n",
    "import librosa"
   ]
  },
  {
   "cell_type": "code",
   "execution_count": null,
   "metadata": {},
   "outputs": [],
   "source": [
    "# audio_file = '/media/Samples/SOL_0.9_HQ/Winds/Flute/ordinario/Fl-ord-C5-mf.wav'\n",
    "audio_file = \"/home/kureta/Music/chorales/01-[Vierstimmige Chorgesänge]-=Hilf,Gott,dass mir's gelinge=,BWV 343.mp3\""
   ]
  },
  {
   "cell_type": "code",
   "execution_count": null,
   "metadata": {},
   "outputs": [],
   "source": [
    "y, sr = librosa.load(audio_file, sr=44100)\n",
    "y = librosa.util.normalize(y)\n",
    "y, sr = librosa.effects.trim(y, top_db=40, frame_length=1024, hop_length=512)\n",
    "y = y[:5*44100]"
   ]
  },
  {
   "cell_type": "code",
   "execution_count": null,
   "metadata": {},
   "outputs": [],
   "source": [
    "F = librosa.stft(y, n_fft=1024, hop_length=512)"
   ]
  },
  {
   "cell_type": "code",
   "execution_count": null,
   "metadata": {},
   "outputs": [],
   "source": [
    "freqs = [f'{n:.2f}' for n in librosa.fft_frequencies(sr=44100, n_fft=1024)]\n",
    "\n",
    "def major_formatter(x, pos):\n",
    "    return freqs[int(x)]"
   ]
  },
  {
   "cell_type": "code",
   "execution_count": null,
   "metadata": {},
   "outputs": [],
   "source": [
    "plt.rcParams['figure.figsize'] = (9, 4)\n",
    "\n",
    "fig, ax1 = plt.subplots(1, 1)\n",
    "ax1.set_ylim(bottom=0, top=513)\n",
    "ax1.set_yticks(np.arange(0, 513, 20))\n",
    "ax1.yaxis.set_major_formatter(mpl.ticker.FuncFormatter(major_formatter))\n",
    "ax1.imshow(librosa.amplitude_to_db(np.absolute(F)), aspect='auto', interpolation='none', origin='lower')\n",
    "pass"
   ]
  },
  {
   "cell_type": "code",
   "execution_count": null,
   "metadata": {},
   "outputs": [],
   "source": [
    "hF, _ = librosa.decompose.hpss(F, margin=2)"
   ]
  },
  {
   "cell_type": "code",
   "execution_count": null,
   "metadata": {},
   "outputs": [],
   "source": [
    "harmony = librosa.istft(hF, hop_length=512)"
   ]
  },
  {
   "cell_type": "code",
   "execution_count": null,
   "metadata": {},
   "outputs": [],
   "source": [
    "Audio(harmony, rate=44100)"
   ]
  },
  {
   "cell_type": "code",
   "execution_count": null,
   "metadata": {},
   "outputs": [],
   "source": [
    "Audio(y, rate=44100)"
   ]
  },
  {
   "cell_type": "code",
   "execution_count": null,
   "metadata": {},
   "outputs": [],
   "source": [
    "plt.rcParams['figure.figsize'] = (9, 4)\n",
    "\n",
    "fig, ax1 = plt.subplots(1, 1)\n",
    "ax1.plot(np.absolute(F[:, 100]))\n",
    "pass"
   ]
  },
  {
   "cell_type": "code",
   "execution_count": null,
   "metadata": {},
   "outputs": [],
   "source": [
    "from scipy.signal import find_peaks\n",
    "from itertools import combinations"
   ]
  },
  {
   "cell_type": "code",
   "execution_count": null,
   "metadata": {},
   "outputs": [],
   "source": [
    "def f0_from_stft_frame(frame):\n",
    "    mean = frame.mean()\n",
    "    std = frame.std()\n",
    "    height = mean + std\n",
    "    peak_bins = find_peaks(frame, height=height)[0]\n",
    "    peak_freqs = librosa.fft_frequencies(44100, 1024)[peak_bins].astype('float32')\n",
    "    diffs = [d for d in peak_freqs if librosa.midi_to_hz(35.5) <= d]\n",
    "\n",
    "    diffs = [abs(a - b) for a, b in combinations(peak_freqs, 2)]\n",
    "    diffs = [d for d in diffs if librosa.midi_to_hz(35.5) <= d <= librosa.midi_to_hz(88.5)]\n",
    "    \n",
    "    diffs = librosa.hz_to_midi(diffs)\n",
    "    \n",
    "    hist_diffs = np.histogram(diffs, range=(35.5, 88.5), bins=53)\n",
    "\n",
    "    maxim = hist_diffs[0].argmax()\n",
    "    f0 = hist_diffs[1][maxim]+0.5\n",
    "    confidence = hist_diffs[0][maxim]\n",
    "    \n",
    "    power = frame**2\n",
    "    p_mean = np.mean(power)\n",
    "    p_ref = librosa.db_to_power(-20)  # or whatever other reference power you want to use\n",
    "    loudness = librosa.power_to_db(p_mean, ref=p_ref)\n",
    "    \n",
    "    return f0, confidence, loudness"
   ]
  },
  {
   "cell_type": "code",
   "execution_count": null,
   "metadata": {},
   "outputs": [],
   "source": [
    "Fh, _ = librosa.decompose.hpss(F, margin=16)\n",
    "example = np.absolute(Fh.T)"
   ]
  },
  {
   "cell_type": "code",
   "execution_count": null,
   "metadata": {},
   "outputs": [],
   "source": [
    "f0s = np.empty((example.shape[0],))\n",
    "confidences = np.empty((example.shape[0],))\n",
    "loudnesses = np.empty((example.shape[0],))\n",
    "for idx, frame in enumerate(example):\n",
    "    f0, confidence, loudness = f0_from_stft_frame(frame)\n",
    "    f0s[idx] = f0\n",
    "    confidences[idx] = confidence\n",
    "    loudnesses[idx] = loudness"
   ]
  },
  {
   "cell_type": "code",
   "execution_count": null,
   "metadata": {},
   "outputs": [],
   "source": [
    "plt.rcParams['figure.figsize'] = (9, 4)\n",
    "t = np.linspace(0, len(y)/44100, len(f0s))\n",
    "\n",
    "fig, (ax1, ax2, ax3) = plt.subplots(3, 1)\n",
    "ax1.plot(t, f0s%12)\n",
    "ax2.plot(t, confidences)\n",
    "ax3.plot(t, loudnesses)\n",
    "pass"
   ]
  },
  {
   "cell_type": "code",
   "execution_count": null,
   "metadata": {},
   "outputs": [],
   "source": []
  },
  {
   "cell_type": "code",
   "execution_count": null,
   "metadata": {},
   "outputs": [],
   "source": [
    "def all_f0s(frame):\n",
    "    mean = frame.mean()\n",
    "    std = frame.std()\n",
    "    height = mean + std\n",
    "    peak_bins = find_peaks(frame, height=height)[0]\n",
    "    peak_freqs = librosa.fft_frequencies(44100, 1024)[peak_bins].astype('float32')\n",
    "\n",
    "    diffs = [abs(a - b) for a, b in combinations(peak_freqs, 2)]\n",
    "    diffs = [d for d in diffs if librosa.midi_to_hz(35.5) <= d <= librosa.midi_to_hz(88.5)]\n",
    "    \n",
    "    diffs = librosa.hz_to_midi(diffs)\n",
    "    \n",
    "    hist_diffs = np.histogram(diffs, range=(21.5, 108.5), bins=87)\n",
    "    return hist_diffs"
   ]
  },
  {
   "cell_type": "code",
   "execution_count": null,
   "metadata": {},
   "outputs": [],
   "source": [
    "f0s = np.empty((example.shape[0], 87))\n",
    "intensities = np.empty((example.shape[0], 87))\n",
    "for idx, frame in enumerate(example):\n",
    "    intensity, _ = all_f0s(frame)\n",
    "    intensities[idx] = intensity"
   ]
  },
  {
   "cell_type": "code",
   "execution_count": null,
   "metadata": {},
   "outputs": [],
   "source": [
    "anan = all_f0s(example[100])"
   ]
  },
  {
   "cell_type": "code",
   "execution_count": null,
   "metadata": {},
   "outputs": [],
   "source": [
    "plt.rcParams['figure.figsize'] = (9, 4)\n",
    "\n",
    "fig, ax1 = plt.subplots(1, 1)\n",
    "\n",
    "pitches = [f'{n:.0f}' for n in (anan[1] + 0.5)[:-1]]\n",
    "\n",
    "def major_formatter(x, pos):\n",
    "    return pitches[x]\n",
    "\n",
    "ax1.set_yticks(np.arange(0, 87, 8))\n",
    "ax1.yaxis.set_major_formatter(mpl.ticker.FuncFormatter(major_formatter))\n",
    "ax1.imshow(intensities.T, aspect='auto', interpolation='none', origin='lower')\n",
    "pass"
   ]
  },
  {
   "cell_type": "code",
   "execution_count": null,
   "metadata": {},
   "outputs": [],
   "source": [
    "frame = example[0]\n",
    "mean = frame.mean()\n",
    "std = frame.std()\n",
    "height = mean + std\n",
    "peak_bins = find_peaks(frame, height=height)[0]\n",
    "peak_freqs = librosa.fft_frequencies(44100, 1024)[peak_bins].astype('float32')\n",
    "\n",
    "diffs = [abs(a - b) for a, b in combinations(peak_freqs, 2)]\n",
    "diffs = [d for d in diffs if librosa.midi_to_hz(21.5) <= d <= librosa.midi_to_hz(108.5)]\n",
    "\n",
    "diffs = librosa.hz_to_midi(diffs)\n",
    "\n",
    "fig, ax1 = plt.subplots(1, 1)\n",
    "ax1.hist(diffs, range=(21.5, 108.5), bins=87, facecolor='g', alpha=0.75)\n",
    "pass"
   ]
  },
  {
   "cell_type": "code",
   "execution_count": null,
   "metadata": {},
   "outputs": [],
   "source": []
  },
  {
   "cell_type": "code",
   "execution_count": null,
   "metadata": {},
   "outputs": [],
   "source": [
    "def stft_to_signal(S, num_iters=15):\n",
    "    S_T = S.T\n",
    "\n",
    "    # Retrieve phase information\n",
    "    phase = 2 * np.pi * np.random.random_sample(S_T.shape) - np.pi\n",
    "    signal = None\n",
    "    for idx in range(num_iters):\n",
    "        D = S_T * np.exp(1j * phase)\n",
    "        signal = librosa.istft(D, hop_length=512, win_length=1024)\n",
    "        # don't calculate phase during the last iteration, because it will not be used.\n",
    "        if idx < num_iters - 1:\n",
    "            phase = np.angle(librosa.stft(signal, n_fft=1024, hop_length=512))\n",
    "\n",
    "    return signal"
   ]
  },
  {
   "cell_type": "code",
   "execution_count": null,
   "metadata": {},
   "outputs": [],
   "source": [
    "sample = np.zeros((800, 513))\n",
    "for i in range(800):\n",
    "    sample[i] = example[0]\n",
    "\n",
    "y = stft_to_signal(sample, 100)\n",
    "Audio(data=y, rate=44100)"
   ]
  },
  {
   "cell_type": "code",
   "execution_count": null,
   "metadata": {},
   "outputs": [],
   "source": [
    "db_spec = librosa.amplitude_to_db(np.abs(F))"
   ]
  },
  {
   "cell_type": "code",
   "execution_count": null,
   "metadata": {},
   "outputs": [],
   "source": [
    "plt.rcParams['figure.figsize'] = (9, 4)\n",
    "\n",
    "fig, ax1 = plt.subplots(1, 1)\n",
    "ax1.set_ylim(bottom=0, top=513)\n",
    "ax1.set_yticks(np.arange(0, 513, 20))\n",
    "ax1.yaxis.set_major_formatter(mpl.ticker.FuncFormatter(major_formatter))\n",
    "ax1.imshow(db_spec, aspect='auto', interpolation='none', origin='lower')\n",
    "pass"
   ]
  },
  {
   "cell_type": "code",
   "execution_count": null,
   "metadata": {},
   "outputs": [],
   "source": [
    "pff = db_spec[200]\n",
    "pitch_content = np.fft.rfft(pff)\n",
    "pitch_content[0] = 0"
   ]
  },
  {
   "cell_type": "code",
   "execution_count": null,
   "metadata": {},
   "outputs": [],
   "source": [
    "plt.rcParams['figure.figsize'] = (9, 4)\n",
    "\n",
    "fig, ax1 = plt.subplots(1, 1)\n",
    "ax1.plot(np.absolute(pitch_content))\n",
    "pass"
   ]
  },
  {
   "cell_type": "code",
   "execution_count": null,
   "metadata": {},
   "outputs": [],
   "source": []
  }
 ],
 "metadata": {
  "kernelspec": {
   "display_name": "zachary-ipyk",
   "language": "python",
   "name": "zachary-ipyk"
  },
  "language_info": {
   "codemirror_mode": {
    "name": "ipython",
    "version": 3
   },
   "file_extension": ".py",
   "mimetype": "text/x-python",
   "name": "python",
   "nbconvert_exporter": "python",
   "pygments_lexer": "ipython3",
   "version": "3.7.2"
  },
  "toc": {
   "base_numbering": 1,
   "nav_menu": {},
   "number_sections": true,
   "sideBar": true,
   "skip_h1_title": false,
   "title_cell": "Table of Contents",
   "title_sidebar": "Contents",
   "toc_cell": false,
   "toc_position": {},
   "toc_section_display": true,
   "toc_window_display": false
  }
 },
 "nbformat": 4,
 "nbformat_minor": 2
}
