{
 "cells": [
  {
   "cell_type": "code",
   "execution_count": null,
   "metadata": {},
   "outputs": [],
   "source": [
    "%matplotlib notebook\n",
    "import matplotlib as mpl\n",
    "import matplotlib.pyplot as plt\n",
    "from IPython.display import Audio"
   ]
  },
  {
   "cell_type": "code",
   "execution_count": null,
   "metadata": {},
   "outputs": [],
   "source": [
    "import numpy as np\n",
    "import librosa"
   ]
  },
  {
   "cell_type": "code",
   "execution_count": null,
   "metadata": {},
   "outputs": [],
   "source": [
    "audio_file = '/media/Samples/SOL_0.9_HQ/Winds/Flute/ordinario/Fl-ord-C5-mf.wav'"
   ]
  },
  {
   "cell_type": "code",
   "execution_count": null,
   "metadata": {},
   "outputs": [],
   "source": [
    "y, sr = librosa.load(audio_file, sr=44100)\n",
    "y, sr = librosa.effects.trim(y, top_db=40, frame_length=1024, hop_length=512)\n",
    "y = librosa.util.normalize(y)"
   ]
  },
  {
   "cell_type": "code",
   "execution_count": null,
   "metadata": {},
   "outputs": [],
   "source": [
    "F = librosa.stft(y, n_fft=1024, hop_length=512)"
   ]
  },
  {
   "cell_type": "code",
   "execution_count": null,
   "metadata": {},
   "outputs": [],
   "source": [
    "freqs = [f'{n:.2f}' for n in librosa.fft_frequencies(sr=44100, n_fft=1024)]\n",
    "\n",
    "def major_formatter(x, pos):\n",
    "    return freqs[int(x)]\n",
    "\n"
   ]
  },
  {
   "cell_type": "code",
   "execution_count": null,
   "metadata": {},
   "outputs": [],
   "source": [
    "plt.rcParams['figure.figsize'] = (9, 4)\n",
    "\n",
    "fig, ax1 = plt.subplots(1, 1)\n",
    "ax1.set_ylim(bottom=0, top=513)\n",
    "ax1.set_yticks(np.arange(0, 513, 20))\n",
    "ax1.yaxis.set_major_formatter(mpl.ticker.FuncFormatter(major_formatter))\n",
    "ax1.imshow(librosa.amplitude_to_db(np.absolute(F)), aspect='auto', interpolation='none', origin='lower')\n",
    "pass"
   ]
  },
  {
   "cell_type": "code",
   "execution_count": null,
   "metadata": {},
   "outputs": [],
   "source": [
    "plt.rcParams['figure.figsize'] = (9, 4)\n",
    "\n",
    "fig, ax1 = plt.subplots(1, 1)\n",
    "ax1.plot(np.absolute(F[:, 100]))\n",
    "pass"
   ]
  },
  {
   "cell_type": "code",
   "execution_count": null,
   "metadata": {},
   "outputs": [],
   "source": [
    "from zachary.datasets import f0_from_stft_frame"
   ]
  },
  {
   "cell_type": "code",
   "execution_count": null,
   "metadata": {},
   "outputs": [],
   "source": [
    "from scipy.signal import find_peaks\n",
    "from itertools import combinations"
   ]
  },
  {
   "cell_type": "code",
   "execution_count": null,
   "metadata": {},
   "outputs": [],
   "source": [
    "def f0_from_stft_frame(frame):\n",
    "    height = frame.mean()\n",
    "    peak_bins = find_peaks(frame, height=height)[0]\n",
    "    peak_freqs = librosa.fft_frequencies(44100, 1024)[peak_bins].astype('float32')\n",
    "\n",
    "    diffs = [abs(a - b) for a, b in combinations(peak_freqs, 2)]\n",
    "    diffs = [d for d in diffs if librosa.midi_to_hz(21) < d < librosa.midi_to_hz(108)]\n",
    "\n",
    "    hist_diffs = np.histogram(diffs, bins=97)\n",
    "\n",
    "    f0 = hist_diffs[1][hist_diffs[0].argmax()]\n",
    "    confidence = hist_diffs[0].max() / hist_diffs[0].sum()\n",
    "    return f0, confidence"
   ]
  },
  {
   "cell_type": "code",
   "execution_count": null,
   "metadata": {},
   "outputs": [],
   "source": [
    "example = np.absolute(F.T)"
   ]
  },
  {
   "cell_type": "code",
   "execution_count": null,
   "metadata": {},
   "outputs": [],
   "source": [
    "f0s = np.empty((example.shape[0],))\n",
    "confidences = np.empty((example.shape[0],))\n",
    "for idx, frame in enumerate(example):\n",
    "    f0, confidence = f0_from_stft_frame(frame)\n",
    "    f0s[idx] = librosa.hz_to_midi(f0)\n",
    "    confidences[idx] = confidence"
   ]
  },
  {
   "cell_type": "code",
   "execution_count": null,
   "metadata": {},
   "outputs": [],
   "source": [
    "plt.rcParams['figure.figsize'] = (9, 4)\n",
    "t = np.linspace(0, len(y)/44100, len(f0s))\n",
    "\n",
    "fig, (ax1, ax2) = plt.subplots(2, 1)\n",
    "ax1.plot(t, f0s)\n",
    "ax2.plot(t, confidences)\n",
    "pass"
   ]
  },
  {
   "cell_type": "code",
   "execution_count": null,
   "metadata": {},
   "outputs": [],
   "source": []
  }
 ],
 "metadata": {
  "kernelspec": {
   "display_name": "zachary-ipyk",
   "language": "python",
   "name": "zachary-ipyk"
  },
  "language_info": {
   "codemirror_mode": {
    "name": "ipython",
    "version": 3
   },
   "file_extension": ".py",
   "mimetype": "text/x-python",
   "name": "python",
   "nbconvert_exporter": "python",
   "pygments_lexer": "ipython3",
   "version": "3.7.2"
  }
 },
 "nbformat": 4,
 "nbformat_minor": 2
}
