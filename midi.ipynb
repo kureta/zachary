{
 "cells": [
  {
   "cell_type": "code",
   "execution_count": null,
   "metadata": {},
   "outputs": [],
   "source": [
    "%matplotlib inline\n",
    "import matplotlib as mpl\n",
    "import matplotlib.pyplot as plt\n",
    "from IPython.display import Audio\n",
    "import numpy as np"
   ]
  },
  {
   "cell_type": "code",
   "execution_count": null,
   "metadata": {},
   "outputs": [],
   "source": [
    "import pretty_midi"
   ]
  },
  {
   "cell_type": "code",
   "execution_count": null,
   "metadata": {},
   "outputs": [],
   "source": [
    "class MIDI(pretty_midi.PrettyMIDI):\n",
    "    def get_piano_roll(self, fs=100, times=None):\n",
    "        # If there are no instruments, return an empty array\n",
    "        if len(self.instruments) == 0:\n",
    "            return np.zeros((128, 0))\n",
    "\n",
    "        # Get piano rolls for each instrument\n",
    "        piano_rolls = [i.get_piano_roll(fs=fs, times=times)\n",
    "                       for i in self.instruments]\n",
    "        # Allocate piano roll,\n",
    "        # number of columns is max of # of columns in all piano rolls\n",
    "        piano_roll = np.zeros((128, np.max([p.shape[1] for p in piano_rolls])))\n",
    "        # Sum each piano roll into the aggregate piano roll\n",
    "        for roll in piano_rolls:\n",
    "            piano_roll[:, :roll.shape[1]] = np.maximum(piano_roll[:, :roll.shape[1]], roll)\n",
    "        return piano_rollplt.rcParams['figure.figsize'] = (19, 6)\n",
    "fig, ax1 = plt.subplots(1, 1)\n",
    "ax1.imshow(matrix, aspect='auto', interpolation='none', origin='lower')\n",
    "pass"
   ]
  },
  {
   "cell_type": "code",
   "execution_count": null,
   "metadata": {},
   "outputs": [],
   "source": [
    "midi = MIDI('/home/kureta/Music/midi/50000 MIDI FILES/QUALITY MIDI/Bach-2PartInvention1.mid')"
   ]
  },
  {
   "cell_type": "code",
   "execution_count": null,
   "metadata": {},
   "outputs": [],
   "source": [
    "matrix = midi.get_piano_roll(fs=librosa.time_to_frames(100, 44100, 512, 1024) / 100)"
   ]
  },
  {
   "cell_type": "code",
   "execution_count": null,
   "metadata": {},
   "outputs": [],
   "source": [
    "plt.rcParams['figure.figsize'] = (19, 6)\n",
    "fig, ax1 = plt.subplots(1, 1)\n",
    "ax1.imshow(matrix, aspect='auto', interpolation='none', origin='lower')\n",
    "pass"
   ]
  },
  {
   "cell_type": "code",
   "execution_count": null,
   "metadata": {},
   "outputs": [],
   "source": [
    "matrix.min(), matrix.max()"
   ]
  },
  {
   "cell_type": "code",
   "execution_count": null,
   "metadata": {},
   "outputs": [],
   "source": [
    "matrix.shape"
   ]
  },
  {
   "cell_type": "code",
   "execution_count": null,
   "metadata": {},
   "outputs": [],
   "source": [
    "midi.get_end_time()"
   ]
  },
  {
   "cell_type": "code",
   "execution_count": null,
   "metadata": {},
   "outputs": [],
   "source": [
    "librosa.frames_to_time(matrix.shape[1], 44100, 512, 1024)"
   ]
  },
  {
   "cell_type": "code",
   "execution_count": null,
   "metadata": {},
   "outputs": [],
   "source": [
    "63.994195011337865"
   ]
  },
  {
   "cell_type": "code",
   "execution_count": null,
   "metadata": {},
   "outputs": [],
   "source": [
    "def trim_zeros(x, eps=1e-7):\n",
    "    s = np.sum(np.abs(x), axis=0)\n",
    "    first = (s!=0).argmax()\n",
    "    last = (s!=0).argmin()\n",
    "    print(s!=0)\n",
    "    return x[:, first:] "
   ]
  },
  {
   "cell_type": "code",
   "execution_count": null,
   "metadata": {},
   "outputs": [],
   "source": [
    "trimmed = trim_zeros(matrix)"
   ]
  },
  {
   "cell_type": "code",
   "execution_count": null,
   "metadata": {},
   "outputs": [],
   "source": [
    "plt.rcParams['figure.figsize'] = (19, 6)\n",
    "fig, ax1 = plt.subplots(1, 1)\n",
    "ax1.imshow(trimmed, aspect='auto', interpolation='none', origin='lower')\n",
    "pass"
   ]
  },
  {
   "cell_type": "code",
   "execution_count": null,
   "metadata": {},
   "outputs": [],
   "source": [
    "np.concatenate([trimmed, matrix], axis=1)"
   ]
  },
  {
   "cell_type": "code",
   "execution_count": null,
   "metadata": {},
   "outputs": [],
   "source": [
    "s.shape"
   ]
  },
  {
   "cell_type": "code",
   "execution_count": null,
   "metadata": {},
   "outputs": [],
   "source": [
    "from zachary.preprocess.datasets import TemporalMidiDataset\n",
    "from zachary.preprocess.base import Configuration"
   ]
  },
  {
   "cell_type": "code",
   "execution_count": null,
   "metadata": {},
   "outputs": [],
   "source": [
    "eben = TemporalMidiDataset(Configuration(midi_dir='/home/kureta/Music/midi/palestrina/'))"
   ]
  },
  {
   "cell_type": "code",
   "execution_count": null,
   "metadata": {},
   "outputs": [],
   "source": [
    "eben[1].shape"
   ]
  },
  {
   "cell_type": "code",
   "execution_count": null,
   "metadata": {},
   "outputs": [],
   "source": [
    "plt.rcParams['figure.figsize'] = (19, 6)\n",
    "fig, ax1 = plt.subplots(1, 1)\n",
    "ax1.imshow(eben[10].numpy(), aspect='auto', interpolation='none', origin='lower')\n",
    "pass"
   ]
  },
  {
   "cell_type": "code",
   "execution_count": null,
   "metadata": {},
   "outputs": [],
   "source": []
  }
 ],
 "metadata": {
  "kernelspec": {
   "display_name": "zachary-venv",
   "language": "python",
   "name": "zachary-venv"
  },
  "language_info": {
   "codemirror_mode": {
    "name": "ipython",
    "version": 3
   },
   "file_extension": ".py",
   "mimetype": "text/x-python",
   "name": "python",
   "nbconvert_exporter": "python",
   "pygments_lexer": "ipython3",
   "version": "3.7.2"
  },
  "toc": {
   "base_numbering": 1,
   "nav_menu": {},
   "number_sections": true,
   "sideBar": true,
   "skip_h1_title": false,
   "title_cell": "Table of Contents",
   "title_sidebar": "Contents",
   "toc_cell": false,
   "toc_position": {},
   "toc_section_display": true,
   "toc_window_display": false
  }
 },
 "nbformat": 4,
 "nbformat_minor": 2
}
